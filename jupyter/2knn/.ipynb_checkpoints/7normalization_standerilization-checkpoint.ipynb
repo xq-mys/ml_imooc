{
 "cells": [
  {
   "cell_type": "markdown",
   "metadata": {},
   "source": [
    "# 数据归一化处理"
   ]
  },
  {
   "cell_type": "code",
   "execution_count": 1,
   "metadata": {},
   "outputs": [],
   "source": [
    "import numpy as np\n",
    "import matplotlib.pyplot as plt"
   ]
  },
  {
   "cell_type": "markdown",
   "metadata": {},
   "source": [
    "# 最值归一化Normalization"
   ]
  },
  {
   "cell_type": "code",
   "execution_count": 3,
   "metadata": {},
   "outputs": [],
   "source": [
    "x = np.random.randint(0, 100, size=100)"
   ]
  },
  {
   "cell_type": "code",
   "execution_count": 4,
   "metadata": {},
   "outputs": [
    {
     "data": {
      "text/plain": [
       "array([93,  3, 96, 79,  6, 86, 54, 86, 65, 17, 84, 23,  1, 76,  3, 37, 67,\n",
       "       95, 64, 80, 54, 90, 23, 51, 51, 61, 18,  7, 85, 82, 71, 91, 33, 70,\n",
       "       34, 31, 66, 82, 30, 62, 15, 70, 43, 60, 47, 85, 67, 56, 33, 77, 97,\n",
       "       23, 55,  3, 81, 47, 63, 76, 15, 26, 91, 98, 14, 85, 44, 47, 30, 15,\n",
       "       68, 12,  5, 90, 93,  7, 85, 78, 22, 12, 52,  2, 78, 78,  0,  6, 57,\n",
       "       46, 52,  3, 78, 49, 98, 91, 50, 59, 88, 68, 81, 93, 65, 86])"
      ]
     },
     "execution_count": 4,
     "metadata": {},
     "output_type": "execute_result"
    }
   ],
   "source": [
    "x"
   ]
  },
  {
   "cell_type": "code",
   "execution_count": 5,
   "metadata": {},
   "outputs": [
    {
     "data": {
      "text/plain": [
       "array([0.94897959, 0.03061224, 0.97959184, 0.80612245, 0.06122449,\n",
       "       0.87755102, 0.55102041, 0.87755102, 0.66326531, 0.17346939,\n",
       "       0.85714286, 0.23469388, 0.01020408, 0.7755102 , 0.03061224,\n",
       "       0.37755102, 0.68367347, 0.96938776, 0.65306122, 0.81632653,\n",
       "       0.55102041, 0.91836735, 0.23469388, 0.52040816, 0.52040816,\n",
       "       0.62244898, 0.18367347, 0.07142857, 0.86734694, 0.83673469,\n",
       "       0.7244898 , 0.92857143, 0.33673469, 0.71428571, 0.34693878,\n",
       "       0.31632653, 0.67346939, 0.83673469, 0.30612245, 0.63265306,\n",
       "       0.15306122, 0.71428571, 0.43877551, 0.6122449 , 0.47959184,\n",
       "       0.86734694, 0.68367347, 0.57142857, 0.33673469, 0.78571429,\n",
       "       0.98979592, 0.23469388, 0.56122449, 0.03061224, 0.82653061,\n",
       "       0.47959184, 0.64285714, 0.7755102 , 0.15306122, 0.26530612,\n",
       "       0.92857143, 1.        , 0.14285714, 0.86734694, 0.44897959,\n",
       "       0.47959184, 0.30612245, 0.15306122, 0.69387755, 0.12244898,\n",
       "       0.05102041, 0.91836735, 0.94897959, 0.07142857, 0.86734694,\n",
       "       0.79591837, 0.2244898 , 0.12244898, 0.53061224, 0.02040816,\n",
       "       0.79591837, 0.79591837, 0.        , 0.06122449, 0.58163265,\n",
       "       0.46938776, 0.53061224, 0.03061224, 0.79591837, 0.5       ,\n",
       "       1.        , 0.92857143, 0.51020408, 0.60204082, 0.89795918,\n",
       "       0.69387755, 0.82653061, 0.94897959, 0.66326531, 0.87755102])"
      ]
     },
     "execution_count": 5,
     "metadata": {},
     "output_type": "execute_result"
    }
   ],
   "source": [
    "# 最值归一化公式：(X-Xmin)/(Xmax-Xmin)\n",
    "(x - np.min(x)) / (np.max(x) - np.min(x))"
   ]
  },
  {
   "cell_type": "code",
   "execution_count": 6,
   "metadata": {},
   "outputs": [],
   "source": [
    "X = np.random.randint(0, 100, (50, 2)) # 50 row 2 col"
   ]
  },
  {
   "cell_type": "code",
   "execution_count": 7,
   "metadata": {},
   "outputs": [
    {
     "data": {
      "text/plain": [
       "array([[11, 71],\n",
       "       [12, 90],\n",
       "       [82, 33],\n",
       "       [50, 77],\n",
       "       [24,  9],\n",
       "       [83,  6],\n",
       "       [ 4, 67],\n",
       "       [95, 38],\n",
       "       [54, 45],\n",
       "       [73, 69]])"
      ]
     },
     "execution_count": 7,
     "metadata": {},
     "output_type": "execute_result"
    }
   ],
   "source": [
    "X[:10,:]"
   ]
  },
  {
   "cell_type": "code",
   "execution_count": 8,
   "metadata": {},
   "outputs": [],
   "source": [
    "# 转换数据类型为float\n",
    "X = np.array(X, dtype=float)"
   ]
  },
  {
   "cell_type": "code",
   "execution_count": 9,
   "metadata": {},
   "outputs": [
    {
     "data": {
      "text/plain": [
       "array([[11., 71.],\n",
       "       [12., 90.],\n",
       "       [82., 33.],\n",
       "       [50., 77.],\n",
       "       [24.,  9.],\n",
       "       [83.,  6.],\n",
       "       [ 4., 67.],\n",
       "       [95., 38.],\n",
       "       [54., 45.],\n",
       "       [73., 69.]])"
      ]
     },
     "execution_count": 9,
     "metadata": {},
     "output_type": "execute_result"
    }
   ],
   "source": [
    "X[:10,:]"
   ]
  },
  {
   "cell_type": "code",
   "execution_count": 11,
   "metadata": {},
   "outputs": [],
   "source": [
    "# 每一个特征的维度，在列方向上\n",
    "X[:,0] = (X[:,0] - np.min(X[:,0])) / (np.max(X[:,0]) - np.min(X[:,0]))"
   ]
  },
  {
   "cell_type": "code",
   "execution_count": 15,
   "metadata": {},
   "outputs": [],
   "source": [
    "X[:,1] = (X[:,1] - np.min(X[:,1])) / (np.max(X[:,1]) - np.min(X[:,1]))"
   ]
  },
  {
   "cell_type": "code",
   "execution_count": 16,
   "metadata": {},
   "outputs": [
    {
     "data": {
      "text/plain": [
       "<matplotlib.collections.PathCollection at 0x1621950>"
      ]
     },
     "execution_count": 16,
     "metadata": {},
     "output_type": "execute_result"
    },
    {
     "data": {
      "image/png": "[encoded data removed]",
      "text/plain": [
       "<Figure size 432x288 with 1 Axes>"
      ]
     },
     "metadata": {
      "needs_background": "light"
     },
     "output_type": "display_data"
    }
   ],
   "source": [
    "# 散点图\n",
    "plt.scatter(X[:,0], X[:,1])"
   ]
  },
  {
   "cell_type": "code",
   "execution_count": 22,
   "metadata": {},
   "outputs": [
    {
     "data": {
      "text/plain": [
       "0.4953191489361702"
      ]
     },
     "execution_count": 22,
     "metadata": {},
     "output_type": "execute_result"
    }
   ],
   "source": [
    "# 第0列的均值\n",
    "np.mean(X[:,0])"
   ]
  },
  {
   "cell_type": "code",
   "execution_count": 23,
   "metadata": {},
   "outputs": [
    {
     "data": {
      "text/plain": [
       "0.3324202372359993"
      ]
     },
     "execution_count": 23,
     "metadata": {},
     "output_type": "execute_result"
    }
   ],
   "source": [
    "# 第0列的方差\n",
    "np.std(X[:,0])"
   ]
  },
  {
   "cell_type": "code",
   "execution_count": 24,
   "metadata": {},
   "outputs": [
    {
     "data": {
      "text/plain": [
       "0.5378947368421053"
      ]
     },
     "execution_count": 24,
     "metadata": {},
     "output_type": "execute_result"
    }
   ],
   "source": [
    "# 第1列的均值\n",
    "np.mean(X[:,1])"
   ]
  },
  {
   "cell_type": "code",
   "execution_count": 25,
   "metadata": {},
   "outputs": [
    {
     "data": {
      "text/plain": [
       "0.3046691134625578"
      ]
     },
     "execution_count": 25,
     "metadata": {},
     "output_type": "execute_result"
    }
   ],
   "source": [
    "# 第1列的方差\n",
    "np.std(X[:,1])"
   ]
  },
  {
   "cell_type": "markdown",
   "metadata": {},
   "source": [
    "# 均值方差归一化Standardization"
   ]
  },
  {
   "cell_type": "code",
   "execution_count": 27,
   "metadata": {},
   "outputs": [],
   "source": [
    "X2 = np.random.randint(0, 100, (50, 2))"
   ]
  },
  {
   "cell_type": "code",
   "execution_count": 28,
   "metadata": {},
   "outputs": [],
   "source": [
    "X2 = np.array(X2, dtype=float)"
   ]
  },
  {
   "cell_type": "code",
   "execution_count": 29,
   "metadata": {},
   "outputs": [],
   "source": [
    "(X-x.mean)/x.std\n",
    "# 第0列均值方差归一化\n",
    "X2[:,0] = (X2[:,0] - np.mean(X2[:,0])) / np.std(X2[:,0])"
   ]
  },
  {
   "cell_type": "code",
   "execution_count": 30,
   "metadata": {},
   "outputs": [],
   "source": [
    "X2[:,1] = (X2[:,1] - np.mean(X2[:,1])) / np.std(X2[:,1])"
   ]
  },
  {
   "cell_type": "code",
   "execution_count": 31,
   "metadata": {},
   "outputs": [
    {
     "data": {
      "text/plain": [
       "<matplotlib.collections.PathCollection at 0x109f54b0>"
      ]
     },
     "execution_count": 31,
     "metadata": {},
     "output_type": "execute_result"
    },
    {
     "data": {
      "image/png": "[encoded data removed]",
      "text/plain": [
       "<Figure size 432x288 with 1 Axes>"
      ]
     },
     "metadata": {
      "needs_background": "light"
     },
     "output_type": "display_data"
    }
   ],
   "source": [
    "# 散点图\n",
    "plt.scatter(X2[:,0], X2[:,1])"
   ]
  },
  {
   "cell_type": "code",
   "execution_count": 32,
   "metadata": {},
   "outputs": [
    {
     "data": {
      "text/plain": [
       "-4.4408920985006264e-17"
      ]
     },
     "execution_count": 32,
     "metadata": {},
     "output_type": "execute_result"
    }
   ],
   "source": [
    "np.mean(X2[:,0])"
   ]
  },
  {
   "cell_type": "code",
   "execution_count": 33,
   "metadata": {},
   "outputs": [
    {
     "data": {
      "text/plain": [
       "0.9999999999999999"
      ]
     },
     "execution_count": 33,
     "metadata": {},
     "output_type": "execute_result"
    }
   ],
   "source": [
    "np.std(X2[:,0])"
   ]
  },
  {
   "cell_type": "code",
   "execution_count": 34,
   "metadata": {},
   "outputs": [
    {
     "data": {
      "text/plain": [
       "1.3211653993039362e-16"
      ]
     },
     "execution_count": 34,
     "metadata": {},
     "output_type": "execute_result"
    }
   ],
   "source": [
    "np.mean(X2[:,1])"
   ]
  },
  {
   "cell_type": "code",
   "execution_count": 35,
   "metadata": {},
   "outputs": [
    {
     "data": {
      "text/plain": [
       "1.0"
      ]
     },
     "execution_count": 35,
     "metadata": {},
     "output_type": "execute_result"
    }
   ],
   "source": [
    "np.std(X2[:,1])"
   ]
  },
  {
   "cell_type": "markdown",
   "metadata": {},
   "source": [
    "有上面数据可知：均值方差归一化是满足均值为0 方差为1\n",
    "数据分布没有明显的边界；有可能存在机端数据值"
   ]
  }
 ],
 "metadata": {
  "kernelspec": {
   "display_name": "Python 3",
   "language": "python",
   "name": "python3"
  },
  "language_info": {
   "codemirror_mode": {
    "name": "ipython",
    "version": 3
   },
   "file_extension": ".py",
   "mimetype": "text/x-python",
   "name": "python",
   "nbconvert_exporter": "python",
   "pygments_lexer": "ipython3",
   "version": "3.7.0"
  }
 },
 "nbformat": 4,
 "nbformat_minor": 2
}
